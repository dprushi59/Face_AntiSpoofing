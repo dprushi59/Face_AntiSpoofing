{
  "nbformat": 4,
  "nbformat_minor": 0,
  "metadata": {
    "colab": {
      "provenance": []
    },
    "kernelspec": {
      "name": "python3",
      "display_name": "Python 3"
    },
    "language_info": {
      "name": "python"
    }
  },
  "cells": [
    {
      "cell_type": "markdown",
      "source": [
        "# Baseline Face Anti-Spoofing Model (Without GRL and CCDD)"
      ],
      "metadata": {
        "id": "YwT30Jd4QzwB"
      }
    },
    {
      "cell_type": "code",
      "source": [
        "import torch\n",
        "import torch.nn as nn\n",
        "import torch.optim as optim\n",
        "from torchvision import models, transforms, datasets\n",
        "from torch.utils.data import DataLoader\n",
        "\n",
        "# Load the ResNet-50 model pre-trained on ImageNet\n",
        "class BaselineFASModel(nn.Module):\n",
        "    def __init__(self):\n",
        "        super(BaselineFASModel, self).__init__()\n",
        "        self.resnet50 = models.resnet50(pretrained=True)\n",
        "        self.resnet50.fc = nn.Linear(2048, 2)  # Two classes: real or spoof\n",
        "\n",
        "    def forward(self, x):\n",
        "        return self.resnet50(x)\n",
        "\n",
        "# Model, loss, and optimizer setup\n",
        "model = BaselineFASModel()\n",
        "criterion = nn.CrossEntropyLoss()\n",
        "optimizer = optim.Adam(model.parameters(), lr=0.001)\n",
        "\n",
        "# Assuming datasets are in the following directories\n",
        "train_data_path = './data/train'\n",
        "test_data_paths = {\n",
        "    'CASIA-MFSD': './data/CASIA-MFSD',\n",
        "    'MSU-MFSD': './data/MSU-MFSD',\n",
        "    'Oulu-NPU': './data/Oulu-NPU',\n",
        "    'Idiap Replay-Attack (RA)': './data/RA',\n",
        "}\n",
        "\n",
        "# Data loading and transformations\n",
        "transform = transforms.Compose([\n",
        "    transforms.Resize((224, 224)),\n",
        "    transforms.ToTensor(),\n",
        "    transforms.Normalize([0.485, 0.456, 0.406], [0.229, 0.224, 0.225])\n",
        "])\n",
        "\n",
        "train_dataset = datasets.ImageFolder(root=train_data_path, transform=transform)\n",
        "train_loader = DataLoader(train_dataset, batch_size=32, shuffle=True)\n",
        "\n",
        "# Training loop\n",
        "def train(model, train_loader, criterion, optimizer, epochs=10):\n",
        "    model.train()\n",
        "    for epoch in range(epochs):\n",
        "        running_loss = 0.0\n",
        "        for inputs, labels in train_loader:\n",
        "            optimizer.zero_grad()\n",
        "            outputs = model(inputs)\n",
        "            loss = criterion(outputs, labels)\n",
        "            loss.backward()\n",
        "            optimizer.step()\n",
        "            running_loss += loss.item()\n",
        "        print(f'Epoch [{epoch + 1}/{epochs}], Loss: {running_loss / len(train_loader)}')\n",
        "\n",
        "train(model, train_loader, criterion, optimizer)\n",
        "\n",
        "# Evaluation function\n",
        "def evaluate(model, test_loader):\n",
        "    model.eval()\n",
        "    correct = 0\n",
        "    total = 0\n",
        "    with torch.no_grad():\n",
        "        for inputs, labels in test_loader:\n",
        "            outputs = model(inputs)\n",
        "            _, predicted = torch.max(outputs.data, 1)\n",
        "            total += labels.size(0)\n",
        "            correct += (predicted == labels).sum().item()\n",
        "    accuracy = 100 * correct / total\n",
        "    return accuracy\n",
        "\n",
        "# Evaluating on multiple domain datasets\n",
        "for domain, path in test_data_paths.items():\n",
        "    test_dataset = datasets.ImageFolder(root=path, transform=transform)\n",
        "    test_loader = DataLoader(test_dataset, batch_size=32, shuffle=False)\n",
        "    accuracy = evaluate(model, test_loader)\n",
        "    print(f'Accuracy on {domain}: {accuracy:.2f}%')\n"
      ],
      "metadata": {
        "id": "MdLIi8DkQ1zA"
      },
      "execution_count": 1,
      "outputs": []
    },
    {
      "cell_type": "markdown",
      "source": [
        "### Generalized Face Anti-Spoofing Model with GRL and CCDD"
      ],
      "metadata": {
        "id": "3fZCnRv5RFR9"
      }
    },
    {
      "cell_type": "code",
      "source": [
        "from torch.autograd import Function\n",
        "\n",
        "# GRL Implementation\n",
        "class GradientReversalLayer(Function):\n",
        "    @staticmethod\n",
        "    def forward(ctx, x, alpha):\n",
        "        ctx.alpha = alpha\n",
        "        return x.view_as(x)\n",
        "\n",
        "    @staticmethod\n",
        "    def backward(ctx, grad_output):\n",
        "        output = grad_output.neg() * ctx.alpha\n",
        "        return output, None\n",
        "\n",
        "# CCDD Implementation\n",
        "class CCDD(nn.Module):\n",
        "    def __init__(self, in_features, num_classes, num_domains):\n",
        "        super(CCDD, self).__init__()\n",
        "        self.fc1 = nn.Linear(in_features, 100)\n",
        "        self.fc2 = nn.Linear(100, num_domains)\n",
        "        self.num_classes = num_classes\n",
        "\n",
        "    def forward(self, x, class_label):\n",
        "        x = torch.relu(self.fc1(x))\n",
        "        class_conditioned = torch.cat((x, class_label), dim=1)\n",
        "        domain_logits = self.fc2(class_conditioned)\n",
        "        return domain_logits\n",
        "\n",
        "# Generalized FAS Model with GRL and CCDD\n",
        "class GeneralizedFASModel(nn.Module):\n",
        "    def __init__(self, num_classes=2, num_domains=4, alpha=1.0):\n",
        "        super(GeneralizedFASModel, self).__init__()\n",
        "        self.resnet50 = models.resnet50(pretrained=True)\n",
        "        self.feature_extractor = nn.Sequential(*list(self.resnet50.children())[:-1])\n",
        "        self.classifier = nn.Linear(2048, num_classes)\n",
        "        self.grl = GradientReversalLayer.apply\n",
        "        self.ccdd = CCDD(2048, num_classes, num_domains)\n",
        "        self.alpha = alpha\n",
        "\n",
        "    def forward(self, x, class_label=None):\n",
        "        features = self.feature_extractor(x)\n",
        "        features = features.view(features.size(0), -1)\n",
        "        class_logits = self.classifier(features)\n",
        "\n",
        "        if self.training and class_label is not None:\n",
        "            reverse_features = self.grl(features, self.alpha)\n",
        "            domain_logits = self.ccdd(reverse_features, class_label)\n",
        "            return class_logits, domain_logits\n",
        "        else:\n",
        "            return class_logits\n",
        "\n",
        "# Model, loss, and optimizer setup\n",
        "model = GeneralizedFASModel()\n",
        "criterion_cls = nn.CrossEntropyLoss()\n",
        "criterion_domain = nn.CrossEntropyLoss()\n",
        "optimizer = optim.Adam(model.parameters(), lr=0.001)\n",
        "\n",
        "# Modified training loop to include domain adaptation\n",
        "def train_generalized(model, train_loader, criterion_cls, criterion_domain, optimizer, epochs=10):\n",
        "    model.train()\n",
        "    for epoch in range(epochs):\n",
        "        running_loss_cls = 0.0\n",
        "        running_loss_domain = 0.0\n",
        "        for inputs, (labels, domain_labels) in train_loader:\n",
        "            optimizer.zero_grad()\n",
        "            class_logits, domain_logits = model(inputs, labels)\n",
        "            loss_cls = criterion_cls(class_logits, labels)\n",
        "            loss_domain = criterion_domain(domain_logits, domain_labels)\n",
        "            loss = loss_cls + loss_domain\n",
        "            loss.backward()\n",
        "            optimizer.step()\n",
        "            running_loss_cls += loss_cls.item()\n",
        "            running_loss_domain += loss_domain.item()\n",
        "        print(f'Epoch [{epoch + 1}/{epochs}], Loss CLS: {running_loss_cls / len(train_loader)}, Loss DOMAIN: {running_loss_domain / len(train_loader)}')\n",
        "\n",
        "train_generalized(model, train_loader, criterion_cls, criterion_domain, optimizer)\n",
        "\n",
        "# Evaluating the generalized model on multiple domain datasets\n",
        "for domain, path in test_data_paths.items():\n",
        "    test_dataset = datasets.ImageFolder(root=path, transform=transform)\n",
        "    test_loader = DataLoader(test_dataset, batch_size=32, shuffle=False)\n",
        "    accuracy = evaluate(model, test_loader)\n",
        "    print(f'Accuracy on {domain}: {accuracy:.2f}%')"
      ],
      "metadata": {
        "id": "uxIrhf6NQ4EK"
      },
      "execution_count": 2,
      "outputs": []
    },
    {
      "cell_type": "code",
      "source": [
        "# #Conclusion\n",
        "# By comparing the two models, we can showcase how the introduction of the GRL and CCDD into the FAS system leads to a more generalized model that performs well across\n",
        "#multiple domain datasets. The proof-of-concept demonstrates the effectiveness of these techniques in overcoming the limitations of the baseline model, making it a\n",
        "#more practical and reliable solution for real-world face anti-spoofing challenges."
      ],
      "metadata": {
        "id": "ex14l5mlRJkG"
      },
      "execution_count": 4,
      "outputs": []
    },
    {
      "cell_type": "code",
      "source": [],
      "metadata": {
        "id": "YH5Peq1nRPNo"
      },
      "execution_count": null,
      "outputs": []
    }
  ]
}